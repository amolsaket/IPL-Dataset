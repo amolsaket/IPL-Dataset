{
 "cells": [
  {
   "cell_type": "code",
   "execution_count": 1,
   "id": "0efe9310",
   "metadata": {},
   "outputs": [],
   "source": [
    "import pandas as pd\n",
    "import numpy as np\n",
    "import statsmodels.api as sm\n",
    "from statsmodels.graphics.regressionplots import abline_plot\n",
    "import matplotlib.pyplot as plt\n",
    "from statsmodels.sandbox.stats.runs import runstest_1samp "
   ]
  },
  {
   "cell_type": "code",
   "execution_count": 2,
   "id": "679679a1",
   "metadata": {},
   "outputs": [
    {
     "name": "stdout",
     "output_type": "stream",
     "text": [
      "                  Name   firstname   lastname  Mat  Inns  NO  Runs  HS    Avg  \\\n",
      "0          aaron finch       aaron      finch   10     9   1   134  46  16.75   \n",
      "1       ab de villiers          ab   villiers   12    11   2   480  90  53.33   \n",
      "2      abhishek sharma    abhishek     sharma    3     3   2    63  46  63.00   \n",
      "3       ajinkya rahane     ajinkya     rahane   15    14   1   370  65  28.46   \n",
      "4      akila dananjaya       akila  dananjaya    1     1   1     4   4   0.00   \n",
      "..                 ...         ...        ...  ...   ...  ..   ...  ..    ...   \n",
      "133  washington sundar  washington     sundar    7     6   3    65  35  21.66   \n",
      "134    wriddhiman saha  wriddhiman       saha   11    10   2   122  35  15.25   \n",
      "135       yusuf pathan       yusuf     pathan   15    13   4   260  45  28.88   \n",
      "136       yuvraj singh      yuvraj      singh    8     6   0    65  20  10.83   \n",
      "137   yuzvendra chahal   yuzvendra     chahal   14     1   1     0   0   0.00   \n",
      "\n",
      "      BF      SR  100s  50s  4s  6s  auction_price  intercept  \n",
      "0    100  134.00     0    0   6  28           6.20          1  \n",
      "1    275  174.54     0    6  39   8           6.20          1  \n",
      "2     33  190.90     0    0   3  30           0.55          1  \n",
      "3    313  118.21     0    1  39   5           4.00          1  \n",
      "4      5   80.00     0    0   0   5           0.50          1  \n",
      "..   ...     ...   ...  ...  ..  ..            ...        ...  \n",
      "133   38  171.05     0    0   5   4           3.20          1  \n",
      "134  102  119.60     0    0  17   1           5.00          1  \n",
      "135  200  130.00     0    0  22  11           1.90          1  \n",
      "136   73   89.04     0    0   6   2           2.00          1  \n",
      "137    4    0.00     0    0   0   0           6.00          1  \n",
      "\n",
      "[138 rows x 17 columns]\n"
     ]
    }
   ],
   "source": [
    "# Checking the features of the dataset\n",
    "df = pd.read_excel(r'C:\\Users\\Amol Saket\\Desktop\\IPL data set.xlsx', sheet_name='Sheet2')\n",
    "df['intercept']=1\n",
    "print(df)"
   ]
  },
  {
   "cell_type": "code",
   "execution_count": 3,
   "id": "770058ef",
   "metadata": {},
   "outputs": [
    {
     "name": "stdout",
     "output_type": "stream",
     "text": [
      "aaron 49\n",
      "ab 3\n",
      "abhishek 63\n",
      "ajinkya 71\n",
      "akila 34\n",
      "akshdeep 69\n",
      "alex 42\n",
      "ambati 46\n",
      "amit 43\n",
      "andre 42\n",
      "andrew 65\n",
      "ankit 55\n",
      "anureet 84\n",
      "axar 44\n",
      "barinder 71\n",
      "basil 43\n",
      "ben 21\n",
      "ben 21\n",
      "ben 21\n",
      "bhuvneshwar 141\n",
      "billy 60\n",
      "brendon 72\n",
      "carlos 68\n",
      "chris 57\n",
      "chris 57\n",
      "chris 57\n",
      "chris 57\n",
      "colin 53\n",
      "colin 53\n",
      "corey 66\n",
      "dan 19\n",
      "darcy 51\n",
      "david 40\n",
      "deepak 42\n",
      "deepak 42\n",
      "dhawal 49\n",
      "dhruv 73\n",
      "dinesh 59\n",
      "dwayne 72\n",
      "evin 50\n",
      "faf 13\n",
      "gautam 63\n",
      "glenn 52\n",
      "harbhajan 63\n",
      "hardik 51\n",
      "harshal 67\n",
      "heinrich 74\n",
      "imran 55\n",
      "ish 36\n",
      "ishan 51\n",
      "jason 59\n",
      "jasprit 93\n",
      "javon 62\n",
      "jaydev 67\n",
      "jofra 50\n",
      "jos 44\n",
      "jp 26\n",
      "kanewilliamson 158\n",
      "karun 65\n",
      "kedar 39\n",
      "kieron 72\n",
      "kl 23\n",
      "krishnappa 113\n",
      "krunal 77\n",
      "kuldeep 74\n",
      "liam 35\n",
      "mahipal 60\n",
      "manan 43\n",
      "mandeep 58\n",
      "manish 64\n",
      "manoj 53\n",
      "marcus 75\n",
      "mark 43\n",
      "mayank 65\n",
      "mayank 65\n",
      "mitchell 82\n",
      "mitchell 82\n",
      "moeen 52\n",
      "mohammad 68\n",
      "mohammad 68\n",
      "mohammed 72\n",
      "mohit 65\n",
      "ms 32\n",
      "mujeeb 56\n",
      "murali 74\n",
      "murugan 95\n",
      "mustafizur 154\n",
      "naman 43\n",
      "nitish 79\n",
      "parthiv 94\n",
      "pawan 55\n",
      "piyush 98\n",
      "pradeep 65\n",
      "prashant 97\n",
      "prasidh 75\n",
      "prithvi 102\n",
      "quinton 110\n",
      "rahul 60\n",
      "rahul 60\n",
      "rashid 59\n",
      "ravichandran 113\n",
      "ravindra 87\n",
      "ricky 66\n",
      "rinku 73\n",
      "rishabh 65\n",
      "robin 58\n",
      "rohit 70\n",
      "sam 33\n",
      "sandeep 64\n",
      "sanju 65\n",
      "sarfaraz 90\n",
      "shahbaz 65\n",
      "shakib 50\n",
      "shane 47\n",
      "shardul 83\n",
      "shikhar 74\n",
      "shivam 72\n",
      "shreevats 117\n",
      "shreyas 95\n",
      "shreyas 95\n",
      "shubman 78\n",
      "siddarth 83\n",
      "stuart 99\n",
      "sunil 75\n",
      "suresh 90\n",
      "suryakumar 148\n",
      "tim 42\n",
      "tom 48\n",
      "trent 77\n",
      "umesh 66\n",
      "vijay 67\n",
      "vinay 71\n",
      "virat 70\n",
      "washington 130\n",
      "wriddhiman 103\n",
      "yusuf 92\n",
      "yuvraj 97\n",
      "yuzvendra 136\n"
     ]
    }
   ],
   "source": [
    "# Calculating the numerology score of every player\n",
    "firstnames = df['firstname'].to_list()\n",
    "sum = 0\n",
    "score = []\n",
    "name=\"\"\n",
    "for index,firstname in enumerate(firstnames):\n",
    "    for char in firstname:\n",
    "        sum += ord(char) - 96 # 96 is the unicode value of character 'a'\n",
    "        name += char\n",
    "    score.append(sum)\n",
    "    print(name, sum)\n",
    "    name=\"\"\n",
    "    sum = 0\n",
    "df['numerology_score'] = pd.Series(data = score)\n"
   ]
  },
  {
   "cell_type": "code",
   "execution_count": 6,
   "id": "6c20b27c",
   "metadata": {},
   "outputs": [
    {
     "name": "stdout",
     "output_type": "stream",
     "text": [
      "     intercept  Runs    Avg      SR  4s  6s  numerology_score\n",
      "0            1   134  16.75  134.00   6  28                49\n",
      "1            1   480  53.33  174.54  39   8                 3\n",
      "2            1    63  63.00  190.90   3  30                63\n",
      "3            1   370  28.46  118.21  39   5                71\n",
      "4            1     4   0.00   80.00   0   5                34\n",
      "..         ...   ...    ...     ...  ..  ..               ...\n",
      "133          1    65  21.66  171.05   5   4               130\n",
      "134          1   122  15.25  119.60  17   1               103\n",
      "135          1   260  28.88  130.00  22  11                92\n",
      "136          1    65  10.83   89.04   6   2                97\n",
      "137          1     0   0.00    0.00   0   0               136\n",
      "\n",
      "[138 rows x 7 columns]\n"
     ]
    }
   ],
   "source": [
    "x = df[['intercept','Runs', 'Avg', 'SR','4s','6s','numerology_score']]\n",
    "print(x)"
   ]
  },
  {
   "cell_type": "code",
   "execution_count": 5,
   "id": "047d4702",
   "metadata": {},
   "outputs": [
    {
     "name": "stdout",
     "output_type": "stream",
     "text": [
      "0      6.20\n",
      "1      6.20\n",
      "2      0.55\n",
      "3      4.00\n",
      "4      0.50\n",
      "       ... \n",
      "133    3.20\n",
      "134    5.00\n",
      "135    1.90\n",
      "136    2.00\n",
      "137    6.00\n",
      "Name: auction_price, Length: 138, dtype: float64\n"
     ]
    }
   ],
   "source": [
    "y = df['auction_price']\n",
    "print(y)"
   ]
  },
  {
   "cell_type": "code",
   "execution_count": null,
   "id": "abddd19b",
   "metadata": {},
   "outputs": [],
   "source": []
  },
  {
   "cell_type": "code",
   "execution_count": null,
   "id": "8736dde3",
   "metadata": {},
   "outputs": [],
   "source": [
    "# Question 1:"
   ]
  },
  {
   "cell_type": "code",
   "execution_count": 7,
   "id": "1d8c682b",
   "metadata": {},
   "outputs": [
    {
     "name": "stdout",
     "output_type": "stream",
     "text": [
      "                            OLS Regression Results                            \n",
      "==============================================================================\n",
      "Dep. Variable:          auction_price   R-squared:                       0.045\n",
      "Model:                            OLS   Adj. R-squared:                  0.009\n",
      "Method:                 Least Squares   F-statistic:                     1.243\n",
      "Date:                Sat, 27 Nov 2021   Prob (F-statistic):              0.292\n",
      "Time:                        20:00:33   Log-Likelihood:                -348.13\n",
      "No. Observations:                 138   AIC:                             708.3\n",
      "Df Residuals:                     132   BIC:                             725.8\n",
      "Df Model:                           5                                         \n",
      "Covariance Type:            nonrobust                                         \n",
      "==============================================================================\n",
      "                 coef    std err          t      P>|t|      [0.025      0.975]\n",
      "------------------------------------------------------------------------------\n",
      "intercept      2.8970      0.663      4.367      0.000       1.585       4.209\n",
      "Runs           0.0126      0.007      1.701      0.091      -0.002       0.027\n",
      "Avg           -0.0536      0.030     -1.814      0.072      -0.112       0.005\n",
      "SR             0.0069      0.006      1.106      0.271      -0.005       0.019\n",
      "4s            -0.0851      0.069     -1.225      0.223      -0.223       0.052\n",
      "6s             0.0133      0.036      0.366      0.715      -0.059       0.085\n",
      "==============================================================================\n",
      "Omnibus:                       26.189   Durbin-Watson:                   1.335\n",
      "Prob(Omnibus):                  0.000   Jarque-Bera (JB):               33.962\n",
      "Skew:                           1.133   Prob(JB):                     4.22e-08\n",
      "Kurtosis:                       3.877   Cond. No.                         618.\n",
      "==============================================================================\n",
      "\n",
      "Notes:\n",
      "[1] Standard Errors assume that the covariance matrix of the errors is correctly specified.\n"
     ]
    }
   ],
   "source": [
    "# Regression 1: 'auction_price' VS 'Runs, Avg, SR, 4s, 6s'\n",
    "x = df[['intercept','Runs', 'Avg', 'SR','4s','6s']]\n",
    "reg1 = sm.OLS(y.astype(float), x.astype(float)).fit()\n",
    "print(reg1.summary())\n"
   ]
  },
  {
   "cell_type": "code",
   "execution_count": 11,
   "id": "6b454a72",
   "metadata": {},
   "outputs": [
    {
     "name": "stdout",
     "output_type": "stream",
     "text": [
      "BP test for heteroscedasticity: {'LM Statistic': 3.118200963289073, 'LM-Test p-value': 0.6817685066548862, 'F-Statistic': 0.6103158915342323, 'F-Test p-value': 0.6921374190338841}\n",
      "\n",
      "White's Test for heteroscedasticity: {'LM Statistic': 12.129121719544155, 'LM-Test p-value': 0.9115599877669662, 'F-Statistic': 0.5637154759597055, 'F-Test p-value': 0.9299827498991529}\n",
      "\n",
      "Runs test for autocorrelation:  {'statistic': -1.7473707333491633, 'p-value': 0.08057305072797875}\n"
     ]
    },
    {
     "data": {
      "image/png": "[encoded data removed]",
      "text/plain": [
       "<Figure size 432x288 with 1 Axes>"
      ]
     },
     "metadata": {
      "needs_background": "light"
     },
     "output_type": "display_data"
    }
   ],
   "source": [
    "residual_reg1 = reg1.resid\n",
    "plt.scatter(df['auction_price'].astype(float),residual_reg1,s=10)\n",
    "plt.xlabel('auction_price')\n",
    "plt.ylabel('residual')\n",
    "\n",
    "# running test for heteroscedasticity\n",
    "from statsmodels.stats.diagnostic import het_breuschpagan\n",
    "from statsmodels.stats.diagnostic import het_white\n",
    "\n",
    "white_test = het_white(residual_reg1,  reg1.model.exog)\n",
    "bp_test = het_breuschpagan(residual_reg1, x)\n",
    "labels = ['LM Statistic', 'LM-Test p-value', 'F-Statistic', 'F-Test p-value']\n",
    "\n",
    "print(\"BP test for heteroscedasticity:\", dict(zip(labels, bp_test)))\n",
    "print()\n",
    "print(\"White's Test for heteroscedasticity:\", dict(zip(labels, white_test)))\n",
    "print()\n",
    "print(\"Runs test for autocorrelation: \", dict(zip(['statistic','p-value'],runstest_1samp(residual_reg1, correction=False))))\n",
    "\n",
    "\n",
    "# RESULTS:\n",
    "\n",
    "# In both the heteroscedasticity tests, p-values are quite high(>0.1 even for 10% significance level). Hence, we dont have \n",
    "# evidence to conclude that data is heteroscedastic.\n",
    "\n",
    "# From the scatter plot, clearly the data looks homoscedastic as the variability of data is similar for each value along x-axis.\n",
    "\n",
    "# But the residual increases with increase in 'auction_price'. This is because of endogeneity problem caused due to omission \n",
    "# of a significant variable that is positively correlated with 'auction_price'.(specification bias)\n",
    "\n",
    "# There is no autocorrelation, as p-value in Runs test is 0.08; This is insignificant at 5% level.\n"
   ]
  },
  {
   "cell_type": "code",
   "execution_count": null,
   "id": "9ebfe5ad",
   "metadata": {},
   "outputs": [],
   "source": []
  },
  {
   "cell_type": "code",
   "execution_count": null,
   "id": "7f4dfa0d",
   "metadata": {},
   "outputs": [],
   "source": [
    "########################################## Question 1 ends here################################################################"
   ]
  },
  {
   "cell_type": "code",
   "execution_count": null,
   "id": "4f87276f",
   "metadata": {},
   "outputs": [],
   "source": [
    "# Question 2 : "
   ]
  },
  {
   "cell_type": "code",
   "execution_count": 15,
   "id": "8b40d4ea",
   "metadata": {},
   "outputs": [
    {
     "name": "stdout",
     "output_type": "stream",
     "text": [
      "                            OLS Regression Results                            \n",
      "==============================================================================\n",
      "Dep. Variable:          auction_price   R-squared:                       0.204\n",
      "Model:                            OLS   Adj. R-squared:                  0.121\n",
      "Method:                 Least Squares   F-statistic:                     2.451\n",
      "Date:                Sat, 27 Nov 2021   Prob (F-statistic):            0.00540\n",
      "Time:                        20:43:29   Log-Likelihood:                -335.53\n",
      "No. Observations:                 138   AIC:                             699.1\n",
      "Df Residuals:                     124   BIC:                             740.0\n",
      "Df Model:                          13                                         \n",
      "Covariance Type:            nonrobust                                         \n",
      "====================================================================================\n",
      "                       coef    std err          t      P>|t|      [0.025      0.975]\n",
      "------------------------------------------------------------------------------------\n",
      "intercept            1.3611      0.986      1.380      0.170      -0.591       3.313\n",
      "Runs                -0.0165      0.016     -1.033      0.304      -0.048       0.015\n",
      "Avg                 -0.0229      0.037     -0.615      0.539      -0.096       0.051\n",
      "SR                   0.0059      0.007      0.854      0.395      -0.008       0.020\n",
      "4s                   0.0070      0.073      0.096      0.924      -0.138       0.152\n",
      "6s                  -0.0022      0.036     -0.061      0.951      -0.073       0.069\n",
      "numerology_score    -0.0126      0.010     -1.252      0.213      -0.033       0.007\n",
      "Mat                  0.1988      0.088      2.247      0.026       0.024       0.374\n",
      "Inns                 0.3550      0.203      1.752      0.082      -0.046       0.756\n",
      "NO                   0.0230      0.246      0.093      0.926      -0.465       0.511\n",
      "HS                  -0.0053      0.025     -0.211      0.833      -0.054       0.044\n",
      "BF                   0.0033      0.018      0.185      0.853      -0.032       0.039\n",
      "100s                 1.0515      1.568      0.670      0.504      -2.053       4.156\n",
      "50s                  0.6454      0.539      1.196      0.234      -0.422       1.713\n",
      "==============================================================================\n",
      "Omnibus:                       24.903   Durbin-Watson:                   1.316\n",
      "Prob(Omnibus):                  0.000   Jarque-Bera (JB):               33.289\n",
      "Skew:                           1.004   Prob(JB):                     5.91e-08\n",
      "Kurtosis:                       4.326   Cond. No.                     1.92e+03\n",
      "==============================================================================\n",
      "\n",
      "Notes:\n",
      "[1] Standard Errors assume that the covariance matrix of the errors is correctly specified.\n",
      "[2] The condition number is large, 1.92e+03. This might indicate that there are\n",
      "strong multicollinearity or other numerical problems.\n"
     ]
    }
   ],
   "source": [
    "# Regression 2: 'auction price' VS all variables including numerology_score\n",
    "x = df[['intercept','Runs', 'Avg', 'SR','4s','6s', 'numerology_score','Mat','Inns','NO','HS','BF','100s','50s']]\n",
    "reg2 = sm.OLS(y.astype(float), x.astype(float)).fit()\n",
    "print(reg2.summary())\n",
    "# Residuals of this regression will be used in regression-4 to compute weights for correction of heteroscedasticity."
   ]
  },
  {
   "cell_type": "code",
   "execution_count": 20,
   "id": "b9a88a78",
   "metadata": {},
   "outputs": [
    {
     "name": "stdout",
     "output_type": "stream",
     "text": [
      "BP test for heteroscedasticity: {'LM Statistic': 7.434408123691373, 'LM-Test p-value': 0.8276229698882298, 'F-Statistic': 0.5931252650531109, 'F-Test p-value': 0.8444370036817637}\n",
      "\n",
      "White's Test for heteroscedasticity: {'LM Statistic': 114.95216556516839, 'LM-Test p-value': 0.07008421634235158, 'F-Statistic': 2.2815376176819084, 'F-Test p-value': 0.0016450606404224426}\n",
      "\n",
      "Runs test for autocorrelation:  {'statistic': -2.400968447886145, 'p-value': 0.016351746354603115}\n"
     ]
    },
    {
     "data": {
      "image/png": "[encoded data removed]",
      "text/plain": [
       "<Figure size 432x288 with 1 Axes>"
      ]
     },
     "metadata": {
      "needs_background": "light"
     },
     "output_type": "display_data"
    }
   ],
   "source": [
    "residual_reg2 = reg2.resid\n",
    "plt.scatter(df['auction_price'].astype(float),residual_reg2,s=10)\n",
    "plt.xlabel('auction_price')\n",
    "plt.ylabel('residuals')\n",
    "\n",
    "# running test for heteroscedasticity\n",
    "from statsmodels.stats.diagnostic import het_breuschpagan\n",
    "from statsmodels.stats.diagnostic import het_white\n",
    "\n",
    "white_test = het_white(residual_reg2,  reg2.model.exog)\n",
    "bp_test = het_breuschpagan(residual_reg2, x)\n",
    "labels = ['LM Statistic', 'LM-Test p-value', 'F-Statistic', 'F-Test p-value']\n",
    "\n",
    "print(\"BP test for heteroscedasticity:\", dict(zip(labels, bp_test)))\n",
    "print()\n",
    "print(\"White's Test for heteroscedasticity:\", dict(zip(labels, white_test)))\n",
    "print()\n",
    "print(\"Runs test for autocorrelation: \", dict(zip(['statistic','p-value'],runstest_1samp(residual_reg2, correction=False))))\n",
    "\n",
    "# RESULTS:\n",
    "\n",
    "# In white's tests, p-values is 0.07. Hence, at 10% level, there is evidence of some heteroscedasticity.\n",
    "# Hence we use weighted least squares(WLS) to estimate the coefficients. (Its a borderline case, since BP test suggests lack\n",
    "# of heteroscedasticity)\n",
    "\n",
    "# But the residual increases with increase in 'auction_price'. This is because of endogeneity problem caused due to omission \n",
    "# of a significant variable that is positively correlated with 'auction_price'.(specification bias)\n",
    "\n",
    "# There is no autocorrelation, as p-value in Runs test is 0.016; This is insignificant at 1% level.(We used stringent criteria\n",
    "# to test for autocorrelation, to avoid use of GLS Method.)"
   ]
  },
  {
   "cell_type": "code",
   "execution_count": 27,
   "id": "f5af7104",
   "metadata": {},
   "outputs": [
    {
     "name": "stdout",
     "output_type": "stream",
     "text": [
      "                            OLS Regression Results                            \n",
      "==============================================================================\n",
      "Dep. Variable:          auction_price   R-squared:                       0.194\n",
      "Model:                            OLS   Adj. R-squared:                  0.117\n",
      "Method:                 Least Squares   F-statistic:                     2.514\n",
      "Date:                Sat, 27 Nov 2021   Prob (F-statistic):            0.00540\n",
      "Time:                        21:05:07   Log-Likelihood:                -336.39\n",
      "No. Observations:                 138   AIC:                             698.8\n",
      "Df Residuals:                     125   BIC:                             736.8\n",
      "Df Model:                          12                                         \n",
      "Covariance Type:            nonrobust                                         \n",
      "==============================================================================\n",
      "                 coef    std err          t      P>|t|      [0.025      0.975]\n",
      "------------------------------------------------------------------------------\n",
      "intercept      0.7033      0.836      0.841      0.402      -0.952       2.359\n",
      "Runs          -0.0117      0.016     -0.754      0.452      -0.042       0.019\n",
      "Avg           -0.0233      0.037     -0.625      0.533      -0.097       0.050\n",
      "SR             0.0048      0.007      0.697      0.487      -0.009       0.018\n",
      "4s            -0.0133      0.072     -0.186      0.853      -0.155       0.128\n",
      "6s             0.0023      0.036      0.065      0.949      -0.069       0.073\n",
      "Mat            0.1815      0.088      2.073      0.040       0.008       0.355\n",
      "Inns           0.3433      0.203      1.692      0.093      -0.058       0.745\n",
      "NO             0.0231      0.247      0.093      0.926      -0.466       0.512\n",
      "HS            -0.0022      0.025     -0.087      0.931      -0.051       0.047\n",
      "BF             0.0005      0.018      0.029      0.977      -0.035       0.036\n",
      "100s           0.8898      1.567      0.568      0.571      -2.211       3.990\n",
      "50s            0.5410      0.534      1.013      0.313      -0.516       1.598\n",
      "==============================================================================\n",
      "Omnibus:                       27.663   Durbin-Watson:                   1.260\n",
      "Prob(Omnibus):                  0.000   Jarque-Bera (JB):               38.854\n",
      "Skew:                           1.072   Prob(JB):                     3.66e-09\n",
      "Kurtosis:                       4.471   Cond. No.                     1.90e+03\n",
      "==============================================================================\n",
      "\n",
      "Notes:\n",
      "[1] Standard Errors assume that the covariance matrix of the errors is correctly specified.\n",
      "[2] The condition number is large, 1.9e+03. This might indicate that there are\n",
      "strong multicollinearity or other numerical problems.\n"
     ]
    }
   ],
   "source": [
    "# Regression 2-1  : 'auction price' VS all variables without numerology_score\n",
    "x = df[['intercept','Runs', 'Avg', 'SR','4s','6s','Mat','Inns','NO','HS','BF','100s','50s']]\n",
    "reg2_1 = sm.OLS(y.astype(float), x.astype(float)).fit()\n",
    "print(reg2_1.summary())\n",
    "residual_reg2_1 = reg2_1.resid \n",
    "# Residuals of this regression will be used in regression-3 to compute weights for correction of heteroscedasticity."
   ]
  },
  {
   "cell_type": "code",
   "execution_count": 28,
   "id": "f633add2",
   "metadata": {},
   "outputs": [
    {
     "name": "stdout",
     "output_type": "stream",
     "text": [
      "                            WLS Regression Results                            \n",
      "==============================================================================\n",
      "Dep. Variable:          auction_price   R-squared:                       0.953\n",
      "Model:                            WLS   Adj. R-squared:                  0.949\n",
      "Method:                 Least Squares   F-statistic:                     212.8\n",
      "Date:                Sat, 27 Nov 2021   Prob (F-statistic):           5.10e-77\n",
      "Time:                        21:05:38   Log-Likelihood:                -227.24\n",
      "No. Observations:                 138   AIC:                             480.5\n",
      "Df Residuals:                     125   BIC:                             518.5\n",
      "Df Model:                          12                                         \n",
      "Covariance Type:            nonrobust                                         \n",
      "==============================================================================\n",
      "                 coef    std err          t      P>|t|      [0.025      0.975]\n",
      "------------------------------------------------------------------------------\n",
      "intercept      0.7642      0.118      6.459      0.000       0.530       0.998\n",
      "Runs          -0.0086      0.003     -2.658      0.009      -0.015      -0.002\n",
      "Avg           -0.0212      0.011     -1.942      0.054      -0.043       0.000\n",
      "SR             0.0030      0.002      1.321      0.189      -0.002       0.008\n",
      "4s            -0.0077      0.015     -0.511      0.610      -0.038       0.022\n",
      "6s            -0.0005      0.012     -0.042      0.967      -0.024       0.023\n",
      "Mat            0.1879      0.025      7.557      0.000       0.139       0.237\n",
      "Inns           0.3708      0.051      7.250      0.000       0.270       0.472\n",
      "NO            -0.0089      0.053     -0.168      0.867      -0.114       0.096\n",
      "HS            -0.0024      0.006     -0.385      0.701      -0.015       0.010\n",
      "BF            -0.0042      0.006     -0.730      0.467      -0.016       0.007\n",
      "100s           0.6456      0.273      2.366      0.020       0.106       1.186\n",
      "50s            0.4060      0.130      3.120      0.002       0.148       0.663\n",
      "==============================================================================\n",
      "Omnibus:                     1408.193   Durbin-Watson:                   1.490\n",
      "Prob(Omnibus):                  0.000   Jarque-Bera (JB):               20.784\n",
      "Skew:                           0.423   Prob(JB):                     3.07e-05\n",
      "Kurtosis:                       1.297   Cond. No.                     6.91e+03\n",
      "==============================================================================\n",
      "\n",
      "Notes:\n",
      "[1] Standard Errors assume that the covariance matrix of the errors is correctly specified.\n",
      "[2] The condition number is large, 6.91e+03. This might indicate that there are\n",
      "strong multicollinearity or other numerical problems.\n"
     ]
    }
   ],
   "source": [
    "# Regression 3:  Original model(WLS)\n",
    "x = df[['intercept','Runs', 'Avg', 'SR','4s','6s','Mat','Inns','NO','HS','BF','100s','50s']]\n",
    "# The weights are presumed to be (proportional to) the inverse of the variance of the observations. \n",
    "# That is, if the variables are to be transformed by 1/sqrt(W) you must supply weights = 1/W.\n",
    "w = 1/((residual_reg2_1)**2).to_numpy() # Weights \n",
    "reg3 = sm.WLS(y.astype(float), x.astype(float), weights=w).fit()\n",
    "print(reg3.summary())"
   ]
  },
  {
   "cell_type": "code",
   "execution_count": 243,
   "id": "f07bdf44",
   "metadata": {},
   "outputs": [
    {
     "data": {
      "text/plain": [
       "Text(0, 0.5, 'residuals')"
      ]
     },
     "execution_count": 243,
     "metadata": {},
     "output_type": "execute_result"
    },
    {
     "data": {
      "image/png": "[encoded data removed]",
      "text/plain": [
       "<Figure size 432x288 with 1 Axes>"
      ]
     },
     "metadata": {
      "needs_background": "light"
     },
     "output_type": "display_data"
    }
   ],
   "source": [
    "residual_reg3 = reg3.resid\n",
    "plt.scatter(df['auction_price'].astype(float),residual_reg3,s=10)\n",
    "plt.xlabel('auction_price')\n",
    "plt.ylabel('residuals')"
   ]
  },
  {
   "cell_type": "code",
   "execution_count": null,
   "id": "a36d7113",
   "metadata": {},
   "outputs": [],
   "source": [
    "# Using WLS estimators, heteroscedasticity is taken care of. Clearly, the spread of data about the mean\n",
    "# has reduced. However,the specification bias still persists even after \n",
    "# considering all explanatory variables in the data set."
   ]
  },
  {
   "cell_type": "code",
   "execution_count": 31,
   "id": "1574dbd1",
   "metadata": {},
   "outputs": [
    {
     "name": "stdout",
     "output_type": "stream",
     "text": [
      "                            WLS Regression Results                            \n",
      "==============================================================================\n",
      "Dep. Variable:          auction_price   R-squared:                       0.993\n",
      "Model:                            WLS   Adj. R-squared:                  0.992\n",
      "Method:                 Least Squares   F-statistic:                     1387.\n",
      "Date:                Sat, 27 Nov 2021   Prob (F-statistic):          1.73e-127\n",
      "Time:                        21:29:53   Log-Likelihood:                -222.91\n",
      "No. Observations:                 138   AIC:                             473.8\n",
      "Df Residuals:                     124   BIC:                             514.8\n",
      "Df Model:                          13                                         \n",
      "Covariance Type:            nonrobust                                         \n",
      "====================================================================================\n",
      "                       coef    std err          t      P>|t|      [0.025      0.975]\n",
      "------------------------------------------------------------------------------------\n",
      "intercept            1.2637      0.104     12.125      0.000       1.057       1.470\n",
      "Runs                -0.0143      0.004     -3.442      0.001      -0.022      -0.006\n",
      "Avg                 -0.0342      0.009     -3.619      0.000      -0.053      -0.016\n",
      "SR                   0.0067      0.002      3.214      0.002       0.003       0.011\n",
      "4s                   0.0197      0.016      1.221      0.224      -0.012       0.052\n",
      "6s                   0.0103      0.011      0.972      0.333      -0.011       0.031\n",
      "numerology_score    -0.0108      0.002     -4.754      0.000      -0.015      -0.006\n",
      "Mat                  0.2004      0.017     11.626      0.000       0.166       0.235\n",
      "Inns                 0.3065      0.056      5.495      0.000       0.196       0.417\n",
      "NO                   0.0343      0.068      0.506      0.614      -0.100       0.168\n",
      "HS                  -0.0038      0.005     -0.691      0.491      -0.015       0.007\n",
      "BF                   0.0017      0.005      0.361      0.719      -0.007       0.011\n",
      "100s                 0.6891      0.298      2.312      0.022       0.099       1.279\n",
      "50s                  0.5345      0.126      4.235      0.000       0.285       0.784\n",
      "==============================================================================\n",
      "Omnibus:                     1391.710   Durbin-Watson:                   1.442\n",
      "Prob(Omnibus):                  0.000   Jarque-Bera (JB):               19.978\n",
      "Skew:                           0.375   Prob(JB):                     4.59e-05\n",
      "Kurtosis:                       1.293   Cond. No.                     1.61e+04\n",
      "==============================================================================\n",
      "\n",
      "Notes:\n",
      "[1] Standard Errors assume that the covariance matrix of the errors is correctly specified.\n",
      "[2] The condition number is large, 1.61e+04. This might indicate that there are\n",
      "strong multicollinearity or other numerical problems.\n"
     ]
    }
   ],
   "source": [
    "# Regression 4: New model which includes numerology(WLS)\n",
    "x = df[['intercept','Runs', 'Avg', 'SR','4s','6s', 'numerology_score','Mat','Inns','NO','HS','BF','100s','50s']]\n",
    "# The weights are presumed to be (proportional to) the inverse of the variance of the observations. \n",
    "# That is, if the variables are to be transformed by 1/sqrt(W) you must supply weights = 1/W.\n",
    "w = 1/((residual_reg2)**2).to_numpy() # Weights \n",
    "reg4 = sm.WLS(y.astype(float), x.astype(float), weights=w).fit()\n",
    "print(reg4.summary())"
   ]
  },
  {
   "cell_type": "code",
   "execution_count": null,
   "id": "1f1dbdd9",
   "metadata": {},
   "outputs": [],
   "source": []
  }
 ],
 "metadata": {
  "kernelspec": {
   "display_name": "Python 3 (ipykernel)",
   "language": "python",
   "name": "python3"
  },
  "language_info": {
   "codemirror_mode": {
    "name": "ipython",
    "version": 3
   },
   "file_extension": ".py",
   "mimetype": "text/x-python",
   "name": "python",
   "nbconvert_exporter": "python",
   "pygments_lexer": "ipython3",
   "version": "3.9.6"
  }
 },
 "nbformat": 4,
 "nbformat_minor": 5
}
