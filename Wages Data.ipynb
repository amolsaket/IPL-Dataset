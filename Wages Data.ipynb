{
 "cells": [
  {
   "cell_type": "code",
   "execution_count": 2,
   "id": "15beb7e4",
   "metadata": {},
   "outputs": [],
   "source": [
    "import pandas as pd\n",
    "import statsmodels.api as sm\n",
    "import matplotlib.pyplot as plt\n",
    "from statsmodels.sandbox.stats.runs import runstest_1samp "
   ]
  },
  {
   "cell_type": "code",
   "execution_count": 16,
   "id": "593734b6",
   "metadata": {},
   "outputs": [
    {
     "name": "stdout",
     "output_type": "stream",
     "text": [
      "          ID  age            maritl      race        education  Unnamed: 5  \\\n",
      "0     231655   18  1. Never Married  1. White     1. < HS Grad           1   \n",
      "1      86582   24  1. Never Married  1. White  4. College Grad           4   \n",
      "2     161300   45        2. Married  1. White  3. Some College           3   \n",
      "3     155159   43        2. Married  3. Asian  4. College Grad           4   \n",
      "4      11443   50       4. Divorced  1. White       2. HS Grad           2   \n",
      "...      ...  ...               ...       ...              ...         ...   \n",
      "2995  376816   44        2. Married  1. White  3. Some College           3   \n",
      "2996  302281   30        2. Married  1. White       2. HS Grad           2   \n",
      "2997   10033   27        2. Married  2. Black     1. < HS Grad           1   \n",
      "2998   14375   27  1. Never Married  1. White  3. Some College           3   \n",
      "2999  453557   55      5. Separated  1. White       2. HS Grad           2   \n",
      "\n",
      "      edu_categorical  less than HS  HS  some college  college grad  \\\n",
      "0                   1             1   0             0             0   \n",
      "1                   4             0   0             0             1   \n",
      "2                   3             0   0             1             0   \n",
      "3                   4             0   0             0             1   \n",
      "4                   2             0   1             0             0   \n",
      "...               ...           ...  ..           ...           ...   \n",
      "2995                3             0   0             1             0   \n",
      "2996                2             0   1             0             0   \n",
      "2997                1             1   0             0             0   \n",
      "2998                3             0   0             1             0   \n",
      "2999                2             0   1             0             0   \n",
      "\n",
      "      advanced degree  health_ins  health_insurance_dummy   logwage  \\\n",
      "0                   0           2                       0  4.318063   \n",
      "1                   0           2                       0  4.255273   \n",
      "2                   0           1                       1  4.875061   \n",
      "3                   0           1                       1  5.041393   \n",
      "4                   0           1                       1  4.318063   \n",
      "...               ...         ...                     ...       ...   \n",
      "2995                0           1                       1  5.041393   \n",
      "2996                0           2                       0  4.602060   \n",
      "2997                0           2                       0  4.193125   \n",
      "2998                0           1                       1  4.477121   \n",
      "2999                0           1                       1  4.505150   \n",
      "\n",
      "            wage  intercept  \n",
      "0      75.043154          1  \n",
      "1      70.476020          1  \n",
      "2     130.982177          1  \n",
      "3     154.685293          1  \n",
      "4      75.043154          1  \n",
      "...          ...        ...  \n",
      "2995  154.685293          1  \n",
      "2996   99.689464          1  \n",
      "2997   66.229408          1  \n",
      "2998   87.981033          1  \n",
      "2999   90.481913          1  \n",
      "\n",
      "[3000 rows x 17 columns]\n"
     ]
    }
   ],
   "source": [
    "# Importing the data set\n",
    "# Pls update the excel file location below, before running the code\n",
    "df = pd.read_excel(r'C:\\Users\\Amol Saket\\Desktop\\wage.xlsx', sheet_name='Sheet_final')\n",
    "df['intercept']=1\n",
    "print(df)"
   ]
  },
  {
   "cell_type": "code",
   "execution_count": 17,
   "id": "8a5623e5",
   "metadata": {},
   "outputs": [],
   "source": [
    "# Question 1. "
   ]
  },
  {
   "cell_type": "code",
   "execution_count": 29,
   "id": "1793c4e9",
   "metadata": {},
   "outputs": [
    {
     "name": "stdout",
     "output_type": "stream",
     "text": [
      "                            OLS Regression Results                            \n",
      "==============================================================================\n",
      "Dep. Variable:                logwage   R-squared:                       0.323\n",
      "Model:                            OLS   Adj. R-squared:                  0.322\n",
      "Method:                 Least Squares   F-statistic:                     476.3\n",
      "Date:                Sun, 28 Nov 2021   Prob (F-statistic):          5.06e-253\n",
      "Time:                        00:27:44   Log-Likelihood:                -536.91\n",
      "No. Observations:                3000   AIC:                             1082.\n",
      "Df Residuals:                    2996   BIC:                             1106.\n",
      "Df Model:                           3                                         \n",
      "Covariance Type:            nonrobust                                         \n",
      "==========================================================================================\n",
      "                             coef    std err          t      P>|t|      [0.025      0.975]\n",
      "------------------------------------------------------------------------------------------\n",
      "intercept                  3.9638      0.024    168.671      0.000       3.918       4.010\n",
      "age                        0.0046      0.000      9.968      0.000       0.004       0.006\n",
      "edu_categorical            0.1178      0.004     26.471      0.000       0.109       0.127\n",
      "health_insurance_dummy     0.2010      0.012     16.978      0.000       0.178       0.224\n",
      "==============================================================================\n",
      "Omnibus:                      229.568   Durbin-Watson:                   1.979\n",
      "Prob(Omnibus):                  0.000   Jarque-Bera (JB):              925.899\n",
      "Skew:                          -0.276   Prob(JB):                    8.78e-202\n",
      "Kurtosis:                       5.665   Cond. No.                         197.\n",
      "==============================================================================\n",
      "\n",
      "Notes:\n",
      "[1] Standard Errors assume that the covariance matrix of the errors is correctly specified.\n"
     ]
    }
   ],
   "source": [
    "# Regression 1: Taking eduction as categorical variable\n",
    "reg1 = sm.OLS(df['logwage'], df[['intercept','age', 'edu_categorical', 'health_insurance_dummy']]).fit()\n",
    "print(reg1.summary())"
   ]
  },
  {
   "cell_type": "code",
   "execution_count": 30,
   "id": "7a36f918",
   "metadata": {},
   "outputs": [
    {
     "name": "stdout",
     "output_type": "stream",
     "text": [
      "                            OLS Regression Results                            \n",
      "==============================================================================\n",
      "Dep. Variable:                logwage   R-squared:                       0.326\n",
      "Model:                            OLS   Adj. R-squared:                  0.324\n",
      "Method:                 Least Squares   F-statistic:                     240.8\n",
      "Date:                Sun, 28 Nov 2021   Prob (F-statistic):          1.11e-251\n",
      "Time:                        00:28:34   Log-Likelihood:                -530.92\n",
      "No. Observations:                3000   AIC:                             1076.\n",
      "Df Residuals:                    2993   BIC:                             1118.\n",
      "Df Model:                           6                                         \n",
      "Covariance Type:            nonrobust                                         \n",
      "==========================================================================================\n",
      "                             coef    std err          t      P>|t|      [0.025      0.975]\n",
      "------------------------------------------------------------------------------------------\n",
      "intercept                  4.1153      0.026    156.667      0.000       4.064       4.167\n",
      "age                        0.0045      0.000      9.697      0.000       0.004       0.005\n",
      "HS                         0.0870      0.020      4.338      0.000       0.048       0.126\n",
      "some college               0.1903      0.021      8.967      0.000       0.149       0.232\n",
      "college grad               0.3064      0.021     14.487      0.000       0.265       0.348\n",
      "advanced degree            0.4724      0.023     20.579      0.000       0.427       0.517\n",
      "health_insurance_dummy     0.2033      0.012     17.161      0.000       0.180       0.227\n",
      "==============================================================================\n",
      "Omnibus:                      228.163   Durbin-Watson:                   1.984\n",
      "Prob(Omnibus):                  0.000   Jarque-Bera (JB):              908.673\n",
      "Skew:                          -0.278   Prob(JB):                    4.83e-198\n",
      "Kurtosis:                       5.638   Cond. No.                         349.\n",
      "==============================================================================\n",
      "\n",
      "Notes:\n",
      "[1] Standard Errors assume that the covariance matrix of the errors is correctly specified.\n"
     ]
    }
   ],
   "source": [
    "# Regression 2: Taking eduction as dummy variable\n",
    "reg2 = sm.OLS(df['logwage'],df[['intercept','age','HS','some college','college grad','advanced degree',\n",
    "                        'health_insurance_dummy']]).fit()\n",
    "print(reg2.summary())\n"
   ]
  },
  {
   "cell_type": "code",
   "execution_count": null,
   "id": "4334c9f0",
   "metadata": {},
   "outputs": [],
   "source": [
    "######################################### Question 1 ends ###############################################################"
   ]
  },
  {
   "cell_type": "code",
   "execution_count": null,
   "id": "5f94d40c",
   "metadata": {},
   "outputs": [],
   "source": [
    "# Question 2:"
   ]
  },
  {
   "cell_type": "code",
   "execution_count": 32,
   "id": "b6fb7a39",
   "metadata": {},
   "outputs": [],
   "source": [
    "# Regression 3:   'Age' on 'health insurance'(OLS)\n",
    "reg3 = sm.OLS(df['age'],df[['intercept','health_insurance_dummy']]).fit()\n",
    "residual_age = reg3.resid\n",
    "#print(reg3.summary())"
   ]
  },
  {
   "cell_type": "code",
   "execution_count": null,
   "id": "aa4d8a15",
   "metadata": {},
   "outputs": [],
   "source": []
  },
  {
   "cell_type": "code",
   "execution_count": 34,
   "id": "81e67165",
   "metadata": {},
   "outputs": [],
   "source": [
    "# Regression 4: 'education' on 'health insurance'(OLS)\n",
    "reg4 = sm.OLS(df['edu_categorical'],df[['intercept','health_insurance_dummy']]).fit()\n",
    "residual_edu=reg4.resid # residual values\n",
    "#print(reg4.summary())"
   ]
  },
  {
   "cell_type": "code",
   "execution_count": null,
   "id": "e95b7149",
   "metadata": {},
   "outputs": [],
   "source": []
  },
  {
   "cell_type": "code",
   "execution_count": 38,
   "id": "bee12cd5",
   "metadata": {},
   "outputs": [
    {
     "name": "stdout",
     "output_type": "stream",
     "text": [
      "                            OLS Regression Results                            \n",
      "==============================================================================\n",
      "Dep. Variable:                logwage   R-squared:                       0.186\n",
      "Model:                            OLS   Adj. R-squared:                  0.186\n",
      "Method:                 Least Squares   F-statistic:                     342.9\n",
      "Date:                Sun, 28 Nov 2021   Prob (F-statistic):          8.04e-135\n",
      "Time:                        00:39:30   Log-Likelihood:                -812.76\n",
      "No. Observations:                3000   AIC:                             1632.\n",
      "Df Residuals:                    2997   BIC:                             1650.\n",
      "Df Model:                           2                                         \n",
      "Covariance Type:            nonrobust                                         \n",
      "================================================================================\n",
      "                   coef    std err          t      P>|t|      [0.025      0.975]\n",
      "--------------------------------------------------------------------------------\n",
      "intercept        4.6539      0.006    803.043      0.000       4.643       4.665\n",
      "residual_age     0.0046      0.001      9.093      0.000       0.004       0.006\n",
      "residual_edu     0.1178      0.005     24.150      0.000       0.108       0.127\n",
      "==============================================================================\n",
      "Omnibus:                      310.736   Durbin-Watson:                   1.990\n",
      "Prob(Omnibus):                  0.000   Jarque-Bera (JB):             1033.441\n",
      "Skew:                          -0.509   Prob(JB):                    3.90e-225\n",
      "Kurtosis:                       5.689   Cond. No.                         11.4\n",
      "==============================================================================\n",
      "\n",
      "Notes:\n",
      "[1] Standard Errors assume that the covariance matrix of the errors is correctly specified.\n"
     ]
    }
   ],
   "source": [
    "# Regression 5: 'Log_wage' on 'age*' and 'education*'\n",
    "df['residual_age'] = residual_age\n",
    "df['residual_edu'] = residual_edu\n",
    "reg5 = sm.OLS(df['logwage'],df[['intercept','residual_age','residual_edu']]).fit()\n",
    "print(reg5.summary())"
   ]
  },
  {
   "cell_type": "code",
   "execution_count": null,
   "id": "f723e7aa",
   "metadata": {},
   "outputs": [],
   "source": []
  }
 ],
 "metadata": {
  "kernelspec": {
   "display_name": "Python 3 (ipykernel)",
   "language": "python",
   "name": "python3"
  },
  "language_info": {
   "codemirror_mode": {
    "name": "ipython",
    "version": 3
   },
   "file_extension": ".py",
   "mimetype": "text/x-python",
   "name": "python",
   "nbconvert_exporter": "python",
   "pygments_lexer": "ipython3",
   "version": "3.9.6"
  }
 },
 "nbformat": 4,
 "nbformat_minor": 5
}
